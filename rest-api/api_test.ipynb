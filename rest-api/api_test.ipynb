{
 "cells": [
  {
   "cell_type": "code",
   "execution_count": 23,
   "metadata": {},
   "outputs": [],
   "source": [
    "import psycopg2\n",
    "\n",
    "from dotenv import load_dotenv\n",
    "import os\n",
    "import time\n",
    "\n",
    "import pandas as pd\n",
    "import numpy as np\n",
    "\n",
    "from sklearn.preprocessing import StandardScaler\n",
    "\n",
    "import tensorflow as tf\n",
    "from tensorflow import keras\n",
    "\n",
    "import joblib"
   ]
  },
  {
   "cell_type": "code",
   "execution_count": 24,
   "metadata": {},
   "outputs": [],
   "source": [
    "\n",
    "# load scaler\n",
    "scalerx = joblib.load(\"../models/scalerx.save\")\n",
    "scalery = joblib.load(\"../models/scalery.save\")\n",
    "\n",
    "# load model\n",
    "model = keras.models.load_model(\"../models/nn_model.h5\")"
   ]
  },
  {
   "cell_type": "code",
   "execution_count": 25,
   "metadata": {},
   "outputs": [],
   "source": [
    "# load dotenv\n",
    "load_dotenv()\n",
    "\n",
    "# connect to database\n",
    "conn = psycopg2.connect(\n",
    "    host=os.getenv(\"HOST\"),\n",
    "    database=os.getenv(\"DBNAME\"),\n",
    "    user=os.getenv(\"DBUSER\"),\n",
    "    password=os.getenv(\"PASS\"),\n",
    "    port=os.getenv(\"PORT\")\n",
    ")\n",
    "\n",
    "# create cursor\n",
    "cursor = conn.cursor()"
   ]
  },
  {
   "cell_type": "code",
   "execution_count": 26,
   "metadata": {},
   "outputs": [],
   "source": [
    "# get today \n",
    "today = time.strftime(\"%Y-%m-%d\")"
   ]
  },
  {
   "cell_type": "code",
   "execution_count": 27,
   "metadata": {},
   "outputs": [
    {
     "name": "stdout",
     "output_type": "stream",
     "text": [
      "[(datetime.datetime(2023, 6, 7, 12, 0, tzinfo=datetime.timezone.utc), 'AAPL', 179.1, 179.17, 177.69, 178.88, None), (datetime.datetime(2023, 6, 7, 13, 0, tzinfo=datetime.timezone.utc), 'AAPL', 178.87, 181.17999268, 178.03, 180.43, 10010869), (datetime.datetime(2023, 6, 7, 14, 0, tzinfo=datetime.timezone.utc), 'AAPL', 180.42, 180.64, 178.065, 178.72, 19680567), (datetime.datetime(2023, 6, 7, 15, 0, tzinfo=datetime.timezone.utc), 'AAPL', 178.71, 179.6, 177.82001, 178.88, 25692532), (datetime.datetime(2023, 6, 7, 16, 0, tzinfo=datetime.timezone.utc), 'AAPL', 178.91, 179.04, 178.01, 178.105, 30732127), (datetime.datetime(2023, 6, 7, 17, 0, tzinfo=datetime.timezone.utc), 'AAPL', 178.13, 178.4677, 177.33, 177.81, 36655760), (datetime.datetime(2023, 6, 7, 18, 0, tzinfo=datetime.timezone.utc), 'AAPL', 177.795, 178.28, 177.61, 178.25, 40793075), (datetime.datetime(2023, 6, 7, 19, 0, tzinfo=datetime.timezone.utc), 'AAPL', 178.24, 178.4999, 177.4714, 177.9605, 50053715), (datetime.datetime(2023, 6, 7, 20, 0, tzinfo=datetime.timezone.utc), 'AAPL', 177.82, 178.38, 177.68, 177.75, None), (datetime.datetime(2023, 6, 7, 21, 0, tzinfo=datetime.timezone.utc), 'AAPL', 177.775, 182.1441, 167.891, 177.8, None), (datetime.datetime(2023, 6, 7, 22, 0, tzinfo=datetime.timezone.utc), 'AAPL', 177.75, 177.87, 177.7, 177.745, None), (datetime.datetime(2023, 6, 7, 23, 0, tzinfo=datetime.timezone.utc), 'AAPL', 177.7316, 177.95, 177.7, 177.935, None), (datetime.datetime(2023, 6, 8, 8, 0, tzinfo=datetime.timezone.utc), 'AAPL', 177.2, 177.79, 177.2, 177.77, None), (datetime.datetime(2023, 6, 8, 9, 0, tzinfo=datetime.timezone.utc), 'AAPL', 177.75, 178.47, 177.7, 178.13, None), (datetime.datetime(2023, 6, 8, 10, 0, tzinfo=datetime.timezone.utc), 'AAPL', 178.09, 179.23911, 177.91, 178.03, None), (datetime.datetime(2023, 6, 8, 11, 0, tzinfo=datetime.timezone.utc), 'AAPL', 177.86, 179.96989, 177.52, 177.77, None), (datetime.datetime(2023, 6, 8, 12, 0, tzinfo=datetime.timezone.utc), 'AAPL', 177.56, 179.47, 177.4, 177.92, None), (datetime.datetime(2023, 6, 8, 13, 0, tzinfo=datetime.timezone.utc), 'AAPL', 177.875, 179.94501, 177.51, 177.86, 6487151), (datetime.datetime(2023, 6, 8, 14, 0, tzinfo=datetime.timezone.utc), 'AAPL', 177.92, 180.255, 177.58, 179.105, 13869847), (datetime.datetime(2023, 6, 8, 15, 0, tzinfo=datetime.timezone.utc), 'AAPL', 179.13, 180.53999, 178.971, 179.529, 19149113), (datetime.datetime(2023, 6, 8, 16, 0, tzinfo=datetime.timezone.utc), 'AAPL', 179.505, 179.99, 179.31, 179.615, 24206338), (datetime.datetime(2023, 6, 8, 17, 0, tzinfo=datetime.timezone.utc), 'AAPL', 179.625, 179.87, 179.02, 179.53, 27425404), (datetime.datetime(2023, 6, 8, 18, 0, tzinfo=datetime.timezone.utc), 'AAPL', 179.545, 180.24, 179.475, 179.92, 32539492), (datetime.datetime(2023, 6, 8, 19, 0, tzinfo=datetime.timezone.utc), 'AAPL', 179.94, 180.825, 179.74, 180.55000305, None), (datetime.datetime(2023, 6, 8, 20, 0, tzinfo=datetime.timezone.utc), 'AAPL', 180.57, 180.675, 179.9874, 180.565, None), (datetime.datetime(2023, 6, 8, 21, 0, tzinfo=datetime.timezone.utc), 'AAPL', 177.82, 189.9224, 177.82, 180.485, None), (datetime.datetime(2023, 6, 8, 22, 0, tzinfo=datetime.timezone.utc), 'AAPL', 180.4709, 180.56, 180.42, 180.455, None), (datetime.datetime(2023, 6, 8, 23, 0, tzinfo=datetime.timezone.utc), 'AAPL', 180.45, 180.53, 180.32, 180.5, None), (datetime.datetime(2023, 6, 9, 8, 0, tzinfo=datetime.timezone.utc), 'AAPL', 180.32, 180.44, 179.93, 180.37, None), (datetime.datetime(2023, 6, 9, 9, 0, tzinfo=datetime.timezone.utc), 'AAPL', 180.39, 181.92, 180.24, 180.25, None), (datetime.datetime(2023, 6, 9, 10, 0, tzinfo=datetime.timezone.utc), 'AAPL', 180.25, 181.23, 180.13, 180.35, None), (datetime.datetime(2023, 6, 9, 11, 0, tzinfo=datetime.timezone.utc), 'AAPL', 180.33, 181.16, 180.06, 180.56, None), (datetime.datetime(2023, 6, 9, 12, 0, tzinfo=datetime.timezone.utc), 'AAPL', 180.34, 181.66, 178.22, 180.77, None), (datetime.datetime(2023, 6, 9, 13, 0, tzinfo=datetime.timezone.utc), 'AAPL', 180.76, 182.18, 180.66, 181.58, 7419714), (datetime.datetime(2023, 6, 9, 14, 0, tzinfo=datetime.timezone.utc), 'AAPL', 181.585, 182.1, 180.985, 181.41, 15084337), (datetime.datetime(2023, 6, 9, 15, 0, tzinfo=datetime.timezone.utc), 'AAPL', 181.395, 182.065, 180.88, 180.92, 21252635), (datetime.datetime(2023, 6, 9, 16, 0, tzinfo=datetime.timezone.utc), 'AAPL', 180.8799, 181.5691, 180.64, 181.39, 25741738), (datetime.datetime(2023, 6, 9, 17, 0, tzinfo=datetime.timezone.utc), 'AAPL', 181.4099, 182.03, 181.29, 182.02, 29086315), (datetime.datetime(2023, 6, 9, 18, 0, tzinfo=datetime.timezone.utc), 'AAPL', 182.03, 182.2295, 181.755, 182.03, 32918101), (datetime.datetime(2023, 6, 9, 19, 0, tzinfo=datetime.timezone.utc), 'AAPL', 182.0397, 182.09, 180.7605, 181.05000305, None), (datetime.datetime(2023, 6, 9, 20, 0, tzinfo=datetime.timezone.utc), 'AAPL', 180.96, 181.1, 180.83, 180.87, None), (datetime.datetime(2023, 6, 9, 21, 0, tzinfo=datetime.timezone.utc), 'AAPL', 180.87, 180.89, 180.76, 180.775, None), (datetime.datetime(2023, 6, 9, 22, 0, tzinfo=datetime.timezone.utc), 'AAPL', 180.795, 180.85, 180.73, 180.805, None), (datetime.datetime(2023, 6, 9, 23, 0, tzinfo=datetime.timezone.utc), 'AAPL', 180.805, 180.86, 180.765, 180.81, None), (datetime.datetime(2023, 6, 12, 8, 0, tzinfo=datetime.timezone.utc), 'AAPL', 181.46, 181.74, 181.31, 181.66, None), (datetime.datetime(2023, 6, 12, 9, 0, tzinfo=datetime.timezone.utc), 'AAPL', 181.66, 181.81, 181.51, 181.62, None), (datetime.datetime(2023, 6, 12, 10, 0, tzinfo=datetime.timezone.utc), 'AAPL', 181.52, 182.015, 181.25, 181.6, None), (datetime.datetime(2023, 6, 12, 11, 0, tzinfo=datetime.timezone.utc), 'AAPL', 181.6, 182.27499, 181.54, 181.74, None), (datetime.datetime(2023, 6, 12, 12, 0, tzinfo=datetime.timezone.utc), 'AAPL', 181.57, 182.53999, 181.3315, 181.95, None), (datetime.datetime(2023, 6, 12, 13, 0, tzinfo=datetime.timezone.utc), 'AAPL', 181.95, 182.71001, 181.18, 181.4375, 5623715), (datetime.datetime(2023, 6, 12, 14, 0, tzinfo=datetime.timezone.utc), 'AAPL', 181.41, 183.30901, 180.97, 181.76, 11591756), (datetime.datetime(2023, 6, 12, 15, 0, tzinfo=datetime.timezone.utc), 'AAPL', 181.76, 183.84, 181.725, 182.32, 16988235), (datetime.datetime(2023, 6, 12, 16, 0, tzinfo=datetime.timezone.utc), 'AAPL', 182.3322, 182.5, 182.12, 182.395, 20116297), (datetime.datetime(2023, 6, 12, 17, 0, tzinfo=datetime.timezone.utc), 'AAPL', 182.395, 182.76, 182.365, 182.74, 23838587), (datetime.datetime(2023, 6, 12, 18, 0, tzinfo=datetime.timezone.utc), 'AAPL', 182.765, 183.115, 182.63, 183.105, 27509149), (datetime.datetime(2023, 6, 12, 19, 0, tzinfo=datetime.timezone.utc), 'AAPL', 183.12, 183.88, 183.02, 183.81, 37992011), (datetime.datetime(2023, 6, 12, 20, 0, tzinfo=datetime.timezone.utc), 'AAPL', 183.8, 183.99, 183.74, 183.93, None), (datetime.datetime(2023, 6, 12, 21, 0, tzinfo=datetime.timezone.utc), 'AAPL', 183.94, 184.06, 183.89, 184.06, None), (datetime.datetime(2023, 6, 12, 22, 0, tzinfo=datetime.timezone.utc), 'AAPL', 184.065, 184.29, 183.98, 184.19, None), (datetime.datetime(2023, 6, 12, 23, 0, tzinfo=datetime.timezone.utc), 'AAPL', 184.19, 184.36, 181.51, 182.5099, None), (datetime.datetime(2023, 6, 13, 8, 0, tzinfo=datetime.timezone.utc), 'AAPL', 182.6, 182.87, 182.01, 182.56, None), (datetime.datetime(2023, 6, 13, 9, 0, tzinfo=datetime.timezone.utc), 'AAPL', 182.57, 182.75999, 182.15, 182.26, None), (datetime.datetime(2023, 6, 13, 10, 0, tzinfo=datetime.timezone.utc), 'AAPL', 182.23, 183.39999, 182.13, 182.2, None), (datetime.datetime(2023, 6, 13, 11, 0, tzinfo=datetime.timezone.utc), 'AAPL', 182.26, 183.17, 182.16, 182.29, None), (datetime.datetime(2023, 6, 13, 12, 0, tzinfo=datetime.timezone.utc), 'AAPL', 182.44, 183.73, 182.1515, 183.085, None), (datetime.datetime(2023, 6, 13, 13, 0, tzinfo=datetime.timezone.utc), 'AAPL', 183.07, 184.13, 182.65, 183.22, 11063079), (datetime.datetime(2023, 6, 13, 14, 0, tzinfo=datetime.timezone.utc), 'AAPL', 183.27, 183.49499512, 182.47, 182.9401, 19266772), (datetime.datetime(2023, 6, 13, 15, 0, tzinfo=datetime.timezone.utc), 'AAPL', 182.95, 183.75, 182.825, 183.11, 24872485), (datetime.datetime(2023, 6, 13, 16, 0, tzinfo=datetime.timezone.utc), 'AAPL', 183.135, 183.5273, 182.9738, 183.455, 29079234), (datetime.datetime(2023, 6, 13, 17, 0, tzinfo=datetime.timezone.utc), 'AAPL', 183.465, 183.55, 182.77, 183.0109, 34236437), (datetime.datetime(2023, 6, 13, 18, 0, tzinfo=datetime.timezone.utc), 'AAPL', 183.02, 183.09, 182.445, 182.91810608, None), (datetime.datetime(2023, 6, 13, 19, 0, tzinfo=datetime.timezone.utc), 'AAPL', 182.9182, 183.3725, 182.69, 183.31, 46482378), (datetime.datetime(2023, 6, 13, 20, 0, tzinfo=datetime.timezone.utc), 'AAPL', 183.31, 183.34, 172.07, 183.22, None), (datetime.datetime(2023, 6, 13, 21, 0, tzinfo=datetime.timezone.utc), 'AAPL', 183.79, 193.953, 183.18, 183.235, None), (datetime.datetime(2023, 6, 13, 22, 0, tzinfo=datetime.timezone.utc), 'AAPL', 183.22, 183.28, 183.18, 183.26, None), (datetime.datetime(2023, 6, 13, 23, 0, tzinfo=datetime.timezone.utc), 'AAPL', 183.26, 183.26, 183.05, 183.075, None), (datetime.datetime(2023, 6, 14, 8, 0, tzinfo=datetime.timezone.utc), 'AAPL', 183.57, 183.63, 183.32, 183.51, None), (datetime.datetime(2023, 6, 14, 9, 0, tzinfo=datetime.timezone.utc), 'AAPL', 183.57, 184.22501, 183.25, 183.36, None), (datetime.datetime(2023, 6, 14, 10, 0, tzinfo=datetime.timezone.utc), 'AAPL', 183.37, 184.21001, 183.25, 183.3, None), (datetime.datetime(2023, 6, 14, 11, 0, tzinfo=datetime.timezone.utc), 'AAPL', 183.31, 184.11501, 183.24, 183.36, None), (datetime.datetime(2023, 6, 14, 12, 0, tzinfo=datetime.timezone.utc), 'AAPL', 183.2502, 183.73, 183.1115, 183.3, None), (datetime.datetime(2023, 6, 14, 13, 0, tzinfo=datetime.timezone.utc), 'AAPL', 183.24, 184.025, 182.64999, 183.8994, 6580483), (datetime.datetime(2023, 6, 14, 14, 0, tzinfo=datetime.timezone.utc), 'AAPL', 183.92, 184.33, 183.50999, 183.78, 14932524), (datetime.datetime(2023, 6, 14, 15, 0, tzinfo=datetime.timezone.utc), 'AAPL', 183.8, 184.3801, 183.5257, 184.09, 19739534), (datetime.datetime(2023, 6, 14, 16, 0, tzinfo=datetime.timezone.utc), 'AAPL', 184.05, 184.245, 183.84, 184.09, 22711249), (datetime.datetime(2023, 6, 14, 17, 0, tzinfo=datetime.timezone.utc), 'AAPL', 184.08, 184.08, 183.51, 183.71, 26096775), (datetime.datetime(2023, 6, 14, 18, 0, tzinfo=datetime.timezone.utc), 'AAPL', 183.33, 184.13, 182.02, 183.57, 36730033), (datetime.datetime(2023, 6, 14, 19, 0, tzinfo=datetime.timezone.utc), 'AAPL', 183.58, 184.2, 182.97, 183.94, 46723212), (datetime.datetime(2023, 6, 14, 20, 0, tzinfo=datetime.timezone.utc), 'AAPL', 183.96, 184.24, 183.86, 184.1, None), (datetime.datetime(2023, 6, 14, 21, 0, tzinfo=datetime.timezone.utc), 'AAPL', 184.15, 184.15, 180.3736, 184.05, None), (datetime.datetime(2023, 6, 14, 22, 0, tzinfo=datetime.timezone.utc), 'AAPL', 184.06, 184.11, 183.99, 184.02, None), (datetime.datetime(2023, 6, 14, 23, 0, tzinfo=datetime.timezone.utc), 'AAPL', 184.03, 184.07, 183.81, 183.95, None), (datetime.datetime(2023, 6, 15, 8, 0, tzinfo=datetime.timezone.utc), 'AAPL', 183.78, 183.9, 183.3, 183.35, None), (datetime.datetime(2023, 6, 15, 9, 0, tzinfo=datetime.timezone.utc), 'AAPL', 183.36, 185.84, 183.0, 183.07, None), (datetime.datetime(2023, 6, 15, 10, 0, tzinfo=datetime.timezone.utc), 'AAPL', 183.07, 185.84, 183.02, 183.25, None), (datetime.datetime(2023, 6, 15, 11, 0, tzinfo=datetime.timezone.utc), 'AAPL', 183.26, 185.2, 183.04, 183.19, None), (datetime.datetime(2023, 6, 15, 12, 0, tzinfo=datetime.timezone.utc), 'AAPL', 183.18, 185.09, 183.0015, 183.64, None), (datetime.datetime(2023, 6, 15, 13, 0, tzinfo=datetime.timezone.utc), 'AAPL', 183.65, 185.80499, 182.355, 185.196, 9815549), (datetime.datetime(2023, 6, 15, 14, 0, tzinfo=datetime.timezone.utc), 'AAPL', 185.195, 186.17999, 185.08, 185.42, 19228032), (datetime.datetime(2023, 6, 15, 15, 0, tzinfo=datetime.timezone.utc), 'AAPL', 185.405, 186.02, 185.24, 185.5484, 25417488), (datetime.datetime(2023, 6, 15, 16, 0, tzinfo=datetime.timezone.utc), 'AAPL', 185.545, 185.56, 185.04, 185.085, 29857047), (datetime.datetime(2023, 6, 15, 17, 0, tzinfo=datetime.timezone.utc), 'AAPL', 185.1, 185.7401, 184.58, 185.68, 34701054), (datetime.datetime(2023, 6, 15, 18, 0, tzinfo=datetime.timezone.utc), 'AAPL', 185.69, 186.511, 185.469, 186.349, 42016495), (datetime.datetime(2023, 6, 15, 19, 0, tzinfo=datetime.timezone.utc), 'AAPL', 186.39, 186.43, 185.69, 186.03, 53566882), (datetime.datetime(2023, 6, 15, 20, 0, tzinfo=datetime.timezone.utc), 'AAPL', 185.95, 186.01, 179.54, 185.735, None), (datetime.datetime(2023, 6, 15, 21, 0, tzinfo=datetime.timezone.utc), 'AAPL', 185.75, 185.84, 185.62, 185.83, None), (datetime.datetime(2023, 6, 15, 22, 0, tzinfo=datetime.timezone.utc), 'AAPL', 185.63, 185.78, 185.52, 185.675, None), (datetime.datetime(2023, 6, 15, 23, 0, tzinfo=datetime.timezone.utc), 'AAPL', 185.675, 185.75, 185.65, 185.69, None), (datetime.datetime(2023, 6, 16, 8, 0, tzinfo=datetime.timezone.utc), 'AAPL', 185.75, 186.06, 185.53, 185.78, None), (datetime.datetime(2023, 6, 16, 9, 0, tzinfo=datetime.timezone.utc), 'AAPL', 185.76, 185.9082, 185.3, 185.58, None), (datetime.datetime(2023, 6, 16, 10, 0, tzinfo=datetime.timezone.utc), 'AAPL', 185.6, 185.6, 185.11, 185.54, None), (datetime.datetime(2023, 6, 16, 11, 0, tzinfo=datetime.timezone.utc), 'AAPL', 185.63, 185.97, 185.6, 185.72, None), (datetime.datetime(2023, 6, 16, 12, 0, tzinfo=datetime.timezone.utc), 'AAPL', 185.9392, 186.33, 185.3715, 186.3, None), (datetime.datetime(2023, 6, 16, 13, 0, tzinfo=datetime.timezone.utc), 'AAPL', 186.315, 187.3985, 184.98, 185.21, 24731401), (datetime.datetime(2023, 6, 16, 14, 0, tzinfo=datetime.timezone.utc), 'AAPL', 185.23, 185.96, 184.91499, 185.7301, 31739341), (datetime.datetime(2023, 6, 16, 15, 0, tzinfo=datetime.timezone.utc), 'AAPL', 185.74, 186.115, 185.02, 185.77, 36990018), (datetime.datetime(2023, 6, 16, 16, 0, tzinfo=datetime.timezone.utc), 'AAPL', 185.7608, 185.98, 185.51, 185.93, 40522576), (datetime.datetime(2023, 6, 16, 17, 0, tzinfo=datetime.timezone.utc), 'AAPL', 185.945, 186.026, 185.465, 185.59, 43605485), (datetime.datetime(2023, 6, 16, 18, 0, tzinfo=datetime.timezone.utc), 'AAPL', 185.57, 185.62, 184.8659, 184.8826, 49462734), (datetime.datetime(2023, 6, 16, 19, 0, tzinfo=datetime.timezone.utc), 'AAPL', 184.88, 185.0957, 184.67, 185.02, 61365862), (datetime.datetime(2023, 6, 16, 20, 0, tzinfo=datetime.timezone.utc), 'AAPL', 185.01, 186.155, 184.01, 185.02, None), (datetime.datetime(2023, 6, 16, 21, 0, tzinfo=datetime.timezone.utc), 'AAPL', 184.92, 185.04, 184.92, 184.93, None), (datetime.datetime(2023, 6, 16, 22, 0, tzinfo=datetime.timezone.utc), 'AAPL', 184.95, 184.98, 184.92, 184.925, None), (datetime.datetime(2023, 6, 16, 23, 0, tzinfo=datetime.timezone.utc), 'AAPL', 184.97, 185.0, 184.92, 184.95, None), (datetime.datetime(2023, 6, 20, 8, 0, tzinfo=datetime.timezone.utc), 'AAPL', 184.71, 184.77, 183.89, 184.01, None), (datetime.datetime(2023, 6, 20, 9, 0, tzinfo=datetime.timezone.utc), 'AAPL', 184.07, 184.81, 184.03, 184.23, None), (datetime.datetime(2023, 6, 20, 10, 0, tzinfo=datetime.timezone.utc), 'AAPL', 184.23, 185.0601, 184.16, 184.22, None), (datetime.datetime(2023, 6, 20, 11, 0, tzinfo=datetime.timezone.utc), 'AAPL', 184.39, 185.55499, 184.01, 184.13, None), (datetime.datetime(2023, 6, 20, 12, 0, tzinfo=datetime.timezone.utc), 'AAPL', 184.2, 185.92999, 183.8215, 184.645, None), (datetime.datetime(2023, 6, 20, 13, 0, tzinfo=datetime.timezone.utc), 'AAPL', 184.68, 186.67, 183.92, 185.3, 7858784), (datetime.datetime(2023, 6, 20, 14, 0, tzinfo=datetime.timezone.utc), 'AAPL', 185.31, 185.95, 184.51, 184.84, 15056659), (datetime.datetime(2023, 6, 20, 15, 0, tzinfo=datetime.timezone.utc), 'AAPL', 184.86, 185.3599, 184.8, 184.97, 19680952), (datetime.datetime(2023, 6, 20, 16, 0, tzinfo=datetime.timezone.utc), 'AAPL', 184.9701, 186.09, 184.9, 185.74, 24602844), (datetime.datetime(2023, 6, 20, 17, 0, tzinfo=datetime.timezone.utc), 'AAPL', 185.74, 186.04, 185.48, 185.56, 28129098), (datetime.datetime(2023, 6, 20, 18, 0, tzinfo=datetime.timezone.utc), 'AAPL', 185.53, 185.8399, 185.2219, 185.46, 31683691), (datetime.datetime(2023, 6, 20, 19, 0, tzinfo=datetime.timezone.utc), 'AAPL', 185.4791, 185.53, 185.0, 185.0, 38432133), (datetime.datetime(2023, 6, 20, 20, 0, tzinfo=datetime.timezone.utc), 'AAPL', 185.02, 185.045, 184.76, 184.8, None), (datetime.datetime(2023, 6, 20, 21, 0, tzinfo=datetime.timezone.utc), 'AAPL', 184.79, 184.84, 184.67, 184.77, None), (datetime.datetime(2023, 6, 20, 22, 0, tzinfo=datetime.timezone.utc), 'AAPL', 184.76, 184.83, 171.84, 184.7, None), (datetime.datetime(2023, 6, 20, 23, 0, tzinfo=datetime.timezone.utc), 'AAPL', 184.74, 184.92, 184.7, 184.9, None), (datetime.datetime(2023, 6, 21, 8, 0, tzinfo=datetime.timezone.utc), 'AAPL', 184.78, 184.89, 184.6, 184.71, None), (datetime.datetime(2023, 6, 21, 9, 0, tzinfo=datetime.timezone.utc), 'AAPL', 184.7, 184.84, 184.12, 184.73, None), (datetime.datetime(2023, 6, 21, 10, 0, tzinfo=datetime.timezone.utc), 'AAPL', 184.75, 184.82, 183.14, 184.75, None), (datetime.datetime(2023, 6, 21, 11, 0, tzinfo=datetime.timezone.utc), 'AAPL', 184.82, 184.88, 184.065, 184.69, None), (datetime.datetime(2023, 6, 21, 12, 0, tzinfo=datetime.timezone.utc), 'AAPL', 184.73, 187.815, 184.11, 184.325, None), (datetime.datetime(2023, 6, 21, 13, 0, tzinfo=datetime.timezone.utc), 'AAPL', 184.33, 185.4, 183.89, 184.09, 6968274), (datetime.datetime(2023, 6, 21, 14, 0, tzinfo=datetime.timezone.utc), 'AAPL', 184.1, 184.505, 183.201, 183.5, 13952103), (datetime.datetime(2023, 6, 21, 15, 0, tzinfo=datetime.timezone.utc), 'AAPL', 183.5, 183.96001, 182.5927, 183.26, 20244714), (datetime.datetime(2023, 6, 21, 16, 0, tzinfo=datetime.timezone.utc), 'AAPL', 183.2531, 184.34, 183.1409, 184.24, 24587026), (datetime.datetime(2023, 6, 21, 17, 0, tzinfo=datetime.timezone.utc), 'AAPL', 184.2257, 184.6459, 183.9742, 184.585, 27550287), (datetime.datetime(2023, 6, 21, 18, 0, tzinfo=datetime.timezone.utc), 'AAPL', 184.6, 185.19, 184.44, 184.9, 31323272), (datetime.datetime(2023, 6, 21, 19, 0, tzinfo=datetime.timezone.utc), 'AAPL', 184.87, 184.91, 183.91, 183.94, 37738854), (datetime.datetime(2023, 6, 21, 20, 0, tzinfo=datetime.timezone.utc), 'AAPL', 183.94, 186.99, 183.65, 183.805, None), (datetime.datetime(2023, 6, 21, 21, 0, tzinfo=datetime.timezone.utc), 'AAPL', 185.01, 185.01, 182.144, 183.735, None), (datetime.datetime(2023, 6, 21, 22, 0, tzinfo=datetime.timezone.utc), 'AAPL', 183.83, 183.86, 183.63, 183.725, None), (datetime.datetime(2023, 6, 21, 23, 0, tzinfo=datetime.timezone.utc), 'AAPL', 183.725, 183.85, 183.63, 183.68, None), (datetime.datetime(2023, 6, 22, 8, 0, tzinfo=datetime.timezone.utc), 'AAPL', 183.6, 183.71, 183.3, 183.37, None), (datetime.datetime(2023, 6, 22, 9, 0, tzinfo=datetime.timezone.utc), 'AAPL', 183.39, 185.77, 183.35, 183.5, None), (datetime.datetime(2023, 6, 22, 10, 0, tzinfo=datetime.timezone.utc), 'AAPL', 183.52, 186.25, 183.23, 183.4, None), (datetime.datetime(2023, 6, 22, 11, 0, tzinfo=datetime.timezone.utc), 'AAPL', 183.5, 186.07001, 183.2, 183.39, None), (datetime.datetime(2023, 6, 22, 12, 0, tzinfo=datetime.timezone.utc), 'AAPL', 183.44, 185.75, 183.21, 183.365, None), (datetime.datetime(2023, 6, 22, 13, 0, tzinfo=datetime.timezone.utc), 'AAPL', 183.4, 186.425, 183.16, 185.42, 7232318), (datetime.datetime(2023, 6, 22, 14, 0, tzinfo=datetime.timezone.utc), 'AAPL', 185.455, 186.41499, 185.03, 185.9381, 15255269), (datetime.datetime(2023, 6, 22, 15, 0, tzinfo=datetime.timezone.utc), 'AAPL', 185.905, 186.97, 185.895, 186.35, 22631486), (datetime.datetime(2023, 6, 22, 16, 0, tzinfo=datetime.timezone.utc), 'AAPL', 186.345, 186.36, 185.74, 186.13, 26305798), (datetime.datetime(2023, 6, 22, 17, 0, tzinfo=datetime.timezone.utc), 'AAPL', 186.135, 186.4899, 185.6, 186.43, 30015155), (datetime.datetime(2023, 6, 22, 18, 0, tzinfo=datetime.timezone.utc), 'AAPL', 186.48, 186.72, 186.2201, 186.7, 33816244), (datetime.datetime(2023, 6, 22, 19, 0, tzinfo=datetime.timezone.utc), 'AAPL', 186.71, 186.985, 186.285, 186.975, 41309652), (datetime.datetime(2023, 6, 22, 20, 0, tzinfo=datetime.timezone.utc), 'AAPL', 187.0, 187.24, 184.76, 187.12, None), (datetime.datetime(2023, 6, 22, 21, 0, tzinfo=datetime.timezone.utc), 'AAPL', 183.96, 189.9224, 183.96, 187.24, None), (datetime.datetime(2023, 6, 22, 22, 0, tzinfo=datetime.timezone.utc), 'AAPL', 187.22, 187.22, 187.11, 187.175, None), (datetime.datetime(2023, 6, 22, 23, 0, tzinfo=datetime.timezone.utc), 'AAPL', 187.175, 187.23, 187.01, 187.085, None), (datetime.datetime(2023, 6, 23, 8, 0, tzinfo=datetime.timezone.utc), 'AAPL', 186.14, 186.45, 185.75, 185.97, None), (datetime.datetime(2023, 6, 23, 9, 0, tzinfo=datetime.timezone.utc), 'AAPL', 185.97, 186.2, 185.83, 186.06, None), (datetime.datetime(2023, 6, 23, 10, 0, tzinfo=datetime.timezone.utc), 'AAPL', 186.09, 186.12, 185.94, 185.98, None), (datetime.datetime(2023, 6, 23, 11, 0, tzinfo=datetime.timezone.utc), 'AAPL', 186.94, 186.94, 186.94, 186.94, 4878533), (datetime.datetime(2023, 6, 23, 12, 0, tzinfo=datetime.timezone.utc), 'AAPL', 187.33701, 187.33701, 187.33701, 187.33701, 4696023), (datetime.datetime(2023, 6, 23, 13, 0, tzinfo=datetime.timezone.utc), 'AAPL', 187.24001, 187.24001, 187.24001, 187.24001, 3569247), (datetime.datetime(2023, 6, 23, 14, 0, tzinfo=datetime.timezone.utc), 'AAPL', 186.815, 186.815, 186.815, 186.815, 5161426), (datetime.datetime(2023, 6, 23, 15, 0, tzinfo=datetime.timezone.utc), 'AAPL', 186.69, 186.69, 186.69, 186.69, 6097018), (datetime.datetime(2023, 6, 26, 9, 0, tzinfo=datetime.timezone.utc), 'AAPL', 187.7498, 187.7498, 187.7498, 187.7498, 9851788), (datetime.datetime(2023, 6, 26, 10, 0, tzinfo=datetime.timezone.utc), 'AAPL', 186.53, 186.53, 186.53, 186.53, 6070361), (datetime.datetime(2023, 6, 26, 11, 0, tzinfo=datetime.timezone.utc), 'AAPL', 186.25, 186.25, 186.25, 186.25, 5254170), (datetime.datetime(2023, 6, 26, 12, 0, tzinfo=datetime.timezone.utc), 'AAPL', 185.985, 185.985, 185.985, 185.985, 4231923), (datetime.datetime(2023, 6, 26, 13, 0, tzinfo=datetime.timezone.utc), 'AAPL', 185.99001, 185.99001, 185.99001, 185.99001, 3433029), (datetime.datetime(2023, 6, 26, 14, 0, tzinfo=datetime.timezone.utc), 'AAPL', 186.075, 186.075, 186.075, 186.075, 4404264), (datetime.datetime(2023, 6, 26, 15, 0, tzinfo=datetime.timezone.utc), 'AAPL', 185.3, 185.3, 185.3, 185.3, 6606964), (datetime.datetime(2023, 6, 27, 9, 0, tzinfo=datetime.timezone.utc), 'AAPL', 186.85001, 186.85001, 186.85001, 186.85001, 10462350), (datetime.datetime(2023, 6, 27, 10, 0, tzinfo=datetime.timezone.utc), 'AAPL', 186.95, 186.95, 186.95, 186.95, 5372053), (datetime.datetime(2023, 6, 27, 11, 0, tzinfo=datetime.timezone.utc), 'AAPL', 187.48, 187.48, 187.48, 187.48, 5104192), (datetime.datetime(2023, 6, 27, 12, 0, tzinfo=datetime.timezone.utc), 'AAPL', 187.785, 187.785, 187.785, 187.785, 5008131), (datetime.datetime(2023, 6, 27, 13, 0, tzinfo=datetime.timezone.utc), 'AAPL', 188.19501, 188.19501, 188.19501, 188.19501, 4551155), (datetime.datetime(2023, 6, 27, 14, 0, tzinfo=datetime.timezone.utc), 'AAPL', 188.30499, 188.30499, 188.30499, 188.30499, 4845018), (datetime.datetime(2023, 6, 27, 15, 0, tzinfo=datetime.timezone.utc), 'AAPL', 188.03999, 188.03999, 188.03999, 188.03999, 5700927), (datetime.datetime(2023, 6, 28, 9, 0, tzinfo=datetime.timezone.utc), 'AAPL', 188.42, 188.42, 188.42, 188.42, 10639016), (datetime.datetime(2023, 6, 28, 10, 0, tzinfo=datetime.timezone.utc), 'AAPL', 189.015, 189.015, 189.015, 189.015, 7112288), (datetime.datetime(2023, 6, 28, 11, 0, tzinfo=datetime.timezone.utc), 'AAPL', 189.30499, 189.30499, 189.30499, 189.30499, 5291226), (datetime.datetime(2023, 6, 28, 12, 0, tzinfo=datetime.timezone.utc), 'AAPL', 189.07001, 189.07001, 189.07001, 189.07001, 5155494), (datetime.datetime(2023, 6, 28, 13, 0, tzinfo=datetime.timezone.utc), 'AAPL', 189.36501, 189.36501, 189.36501, 189.36501, 3627949), (datetime.datetime(2023, 6, 28, 14, 0, tzinfo=datetime.timezone.utc), 'AAPL', 189.02, 189.02, 189.02, 189.02, 4548141), (datetime.datetime(2023, 6, 28, 15, 0, tzinfo=datetime.timezone.utc), 'AAPL', 189.28, 189.28, 189.28, 189.28, 7056821), (datetime.datetime(2023, 6, 29, 9, 0, tzinfo=datetime.timezone.utc), 'AAPL', 189.47, 189.47, 189.47, 189.47, 14305988), (datetime.datetime(2023, 6, 29, 10, 0, tzinfo=datetime.timezone.utc), 'AAPL', 189.89, 189.89, 189.89, 189.89, 5669341), (datetime.datetime(2023, 6, 29, 11, 0, tzinfo=datetime.timezone.utc), 'AAPL', 189.675, 189.675, 189.675, 189.675, 3916975), (datetime.datetime(2023, 6, 29, 12, 0, tzinfo=datetime.timezone.utc), 'AAPL', 189.49001, 189.49001, 189.49001, 189.49001, 2849181), (datetime.datetime(2023, 6, 29, 13, 0, tzinfo=datetime.timezone.utc), 'AAPL', 189.6506, 189.6506, 189.6506, 189.6506, 3426306), (datetime.datetime(2023, 6, 29, 14, 0, tzinfo=datetime.timezone.utc), 'AAPL', 189.4776, 189.4776, 189.4776, 189.4776, 3553394), (datetime.datetime(2023, 6, 29, 15, 0, tzinfo=datetime.timezone.utc), 'AAPL', 189.59, 189.59, 189.59, 189.59, 5234026), (datetime.datetime(2023, 6, 30, 9, 0, tzinfo=datetime.timezone.utc), 'AAPL', 192.69, 192.69, 192.69, 192.69, 19512129), (datetime.datetime(2023, 6, 30, 10, 0, tzinfo=datetime.timezone.utc), 'AAPL', 192.38499, 192.38499, 192.38499, 192.38499, 7580238), (datetime.datetime(2023, 6, 30, 11, 0, tzinfo=datetime.timezone.utc), 'AAPL', 192.59, 192.59, 192.59, 192.59, 6754890), (datetime.datetime(2023, 6, 30, 12, 0, tzinfo=datetime.timezone.utc), 'AAPL', 192.925, 192.925, 192.925, 192.925, 4763101), (datetime.datetime(2023, 6, 30, 13, 0, tzinfo=datetime.timezone.utc), 'AAPL', 193.02499, 193.02499, 193.02499, 193.02499, 5792298), (datetime.datetime(2023, 6, 30, 14, 0, tzinfo=datetime.timezone.utc), 'AAPL', 193.49001, 193.49001, 193.49001, 193.49001, 7037910), (datetime.datetime(2023, 6, 30, 15, 0, tzinfo=datetime.timezone.utc), 'AAPL', 193.8, 193.8, 193.8, 193.8, 13053197), (datetime.datetime(2023, 7, 3, 9, 0, tzinfo=datetime.timezone.utc), 'AAPL', 192.91499, 192.91499, 192.91499, 192.91499, 12730490), (datetime.datetime(2023, 7, 3, 10, 0, tzinfo=datetime.timezone.utc), 'AAPL', 192.355, 192.355, 192.355, 192.355, 8432896), (datetime.datetime(2023, 7, 3, 11, 0, tzinfo=datetime.timezone.utc), 'AAPL', 192.11501, 192.11501, 192.11501, 192.11501, 3819693), (datetime.datetime(2023, 7, 3, 12, 0, tzinfo=datetime.timezone.utc), 'AAPL', 192.345, 192.345, 192.345, 192.345, 6090479), (datetime.datetime(2023, 7, 3, 13, 0, tzinfo=datetime.timezone.utc), 'AAPL', 192.46, 192.46, 192.46, 192.46, 0), (datetime.datetime(2023, 7, 3, 14, 0, tzinfo=datetime.timezone.utc), 'AAPL', 192.36, 192.36, 192.36, 192.36, 0), (datetime.datetime(2023, 7, 3, 15, 0, tzinfo=datetime.timezone.utc), 'AAPL', 192.36, 192.36, 192.36, 192.36, 0), (datetime.datetime(2023, 7, 5, 9, 0, tzinfo=datetime.timezone.utc), 'AAPL', 192.35001, 192.35001, 192.35001, 192.35001, 12178355), (datetime.datetime(2023, 7, 5, 10, 0, tzinfo=datetime.timezone.utc), 'AAPL', 191.435, 191.435, 191.435, 191.435, 5687316), (datetime.datetime(2023, 7, 5, 11, 0, tzinfo=datetime.timezone.utc), 'AAPL', 191.1416, 191.1416, 191.1416, 191.1416, 5537328), (datetime.datetime(2023, 7, 5, 12, 0, tzinfo=datetime.timezone.utc), 'AAPL', 190.99001, 190.99001, 190.99001, 190.99001, 4563014), (datetime.datetime(2023, 7, 5, 13, 0, tzinfo=datetime.timezone.utc), 'AAPL', 190.95, 190.95, 190.95, 190.95, 3822763), (datetime.datetime(2023, 7, 5, 14, 0, tzinfo=datetime.timezone.utc), 'AAPL', 191.355, 191.355, 191.355, 191.355, 3543211), (datetime.datetime(2023, 7, 5, 15, 0, tzinfo=datetime.timezone.utc), 'AAPL', 191.32001, 191.32001, 191.32001, 191.32001, 3919002), (datetime.datetime(2023, 7, 6, 9, 0, tzinfo=datetime.timezone.utc), 'AAPL', 189.94, 189.94, 189.94, 189.94, 11240368), (datetime.datetime(2023, 7, 6, 10, 0, tzinfo=datetime.timezone.utc), 'AAPL', 190.17, 190.17, 190.17, 190.17, 5412613), (datetime.datetime(2023, 7, 6, 11, 0, tzinfo=datetime.timezone.utc), 'AAPL', 190.935, 190.935, 190.935, 190.935, 4710270), (datetime.datetime(2023, 7, 6, 12, 0, tzinfo=datetime.timezone.utc), 'AAPL', 191.11, 191.11, 191.11, 191.11, 3347231), (datetime.datetime(2023, 7, 6, 13, 0, tzinfo=datetime.timezone.utc), 'AAPL', 191.03, 191.03, 191.03, 191.03, 3683383), (datetime.datetime(2023, 7, 6, 14, 0, tzinfo=datetime.timezone.utc), 'AAPL', 191.64, 191.64, 191.64, 191.64, 3838019), (datetime.datetime(2023, 7, 6, 15, 0, tzinfo=datetime.timezone.utc), 'AAPL', 191.78, 191.78, 191.78, 191.78, 5150657), (datetime.datetime(2023, 7, 7, 9, 0, tzinfo=datetime.timezone.utc), 'AAPL', 190.62, 190.62, 190.62, 190.62, 10430202), (datetime.datetime(2023, 7, 7, 10, 0, tzinfo=datetime.timezone.utc), 'AAPL', 191.2095, 191.2095, 191.2095, 191.2095, 5013111), (datetime.datetime(2023, 7, 7, 11, 0, tzinfo=datetime.timezone.utc), 'AAPL', 192.1299, 192.1299, 192.1299, 192.1299, 5436113), (datetime.datetime(2023, 7, 7, 12, 0, tzinfo=datetime.timezone.utc), 'AAPL', 192.56, 192.56, 192.56, 192.56, 4409437), (datetime.datetime(2023, 7, 7, 13, 0, tzinfo=datetime.timezone.utc), 'AAPL', 192.39999, 192.39999, 192.39999, 192.39999, 3374342), (datetime.datetime(2023, 7, 7, 14, 0, tzinfo=datetime.timezone.utc), 'AAPL', 191.75, 191.75, 191.75, 191.75, 3801246), (datetime.datetime(2023, 7, 7, 15, 0, tzinfo=datetime.timezone.utc), 'AAPL', 190.71001, 190.71001, 190.71001, 190.71001, 6160106), (datetime.datetime(2023, 7, 10, 9, 0, tzinfo=datetime.timezone.utc), 'AAPL', 188.9599, 188.9599, 188.9599, 188.9599, 17984222), (datetime.datetime(2023, 7, 10, 10, 0, tzinfo=datetime.timezone.utc), 'AAPL', 187.86, 187.86, 187.86, 187.86, 7459938), (datetime.datetime(2023, 7, 10, 11, 0, tzinfo=datetime.timezone.utc), 'AAPL', 187.562, 187.562, 187.562, 187.562, 6988062), (datetime.datetime(2023, 7, 10, 12, 0, tzinfo=datetime.timezone.utc), 'AAPL', 188.09, 188.09, 188.09, 188.09, 4559778), (datetime.datetime(2023, 7, 10, 13, 0, tzinfo=datetime.timezone.utc), 'AAPL', 188.61501, 188.61501, 188.61501, 188.61501, 3814590), (datetime.datetime(2023, 7, 10, 14, 0, tzinfo=datetime.timezone.utc), 'AAPL', 188.3, 188.3, 188.3, 188.3, 4050702), (datetime.datetime(2023, 7, 10, 15, 0, tzinfo=datetime.timezone.utc), 'AAPL', 188.63, 188.63, 188.63, 188.63, 5920823), (datetime.datetime(2023, 7, 11, 9, 0, tzinfo=datetime.timezone.utc), 'AAPL', 188.11, 188.11, 188.11, 188.11, 10238697), (datetime.datetime(2023, 7, 11, 10, 0, tzinfo=datetime.timezone.utc), 'AAPL', 187.715, 187.715, 187.715, 187.715, 4854820), (datetime.datetime(2023, 7, 11, 11, 0, tzinfo=datetime.timezone.utc), 'AAPL', 187.61501, 187.61501, 187.61501, 187.61501, 5419136), (datetime.datetime(2023, 7, 11, 12, 0, tzinfo=datetime.timezone.utc), 'AAPL', 187.41, 187.41, 187.41, 187.41, 3590478), (datetime.datetime(2023, 7, 11, 13, 0, tzinfo=datetime.timezone.utc), 'AAPL', 186.881, 186.881, 186.881, 186.881, 5978219), (datetime.datetime(2023, 7, 11, 14, 0, tzinfo=datetime.timezone.utc), 'AAPL', 187.13721, 187.13721, 187.13721, 187.13721, 4325125), (datetime.datetime(2023, 7, 11, 15, 0, tzinfo=datetime.timezone.utc), 'AAPL', 188.05051, 188.05051, 188.05051, 188.05051, 6257248), (datetime.datetime(2023, 7, 12, 9, 0, tzinfo=datetime.timezone.utc), 'AAPL', 190.35001, 190.35001, 190.35001, 190.35001, 17951283), (datetime.datetime(2023, 7, 12, 10, 0, tzinfo=datetime.timezone.utc), 'AAPL', 189.53, 189.53, 189.53, 189.53, 7721602), (datetime.datetime(2023, 7, 12, 11, 0, tzinfo=datetime.timezone.utc), 'AAPL', 189.155, 189.155, 189.155, 189.155, 5926745), (datetime.datetime(2023, 7, 12, 12, 0, tzinfo=datetime.timezone.utc), 'AAPL', 189.86, 189.86, 189.86, 189.86, 4348900), (datetime.datetime(2023, 7, 12, 13, 0, tzinfo=datetime.timezone.utc), 'AAPL', 190.34, 190.34, 190.34, 190.34, 3367158), (datetime.datetime(2023, 7, 12, 14, 0, tzinfo=datetime.timezone.utc), 'AAPL', 189.86, 189.86, 189.86, 189.86, 4608750), (datetime.datetime(2023, 7, 12, 15, 0, tzinfo=datetime.timezone.utc), 'AAPL', 189.81, 189.81, 189.81, 189.81, 5646874), (datetime.datetime(2023, 7, 13, 9, 0, tzinfo=datetime.timezone.utc), 'AAPL', 189.98, 189.98, 189.98, 189.98, 10603557), (datetime.datetime(2023, 7, 13, 10, 0, tzinfo=datetime.timezone.utc), 'AAPL', 190.17, 190.17, 190.17, 190.17, 4629912), (datetime.datetime(2023, 7, 13, 11, 0, tzinfo=datetime.timezone.utc), 'AAPL', 190.675, 190.675, 190.675, 190.675, 3357584), (datetime.datetime(2023, 7, 13, 12, 0, tzinfo=datetime.timezone.utc), 'AAPL', 190.66499, 190.66499, 190.66499, 190.66499, 2845853), (datetime.datetime(2023, 7, 13, 13, 0, tzinfo=datetime.timezone.utc), 'AAPL', 190.58, 190.58, 190.58, 190.58, 2663247), (datetime.datetime(2023, 7, 13, 14, 0, tzinfo=datetime.timezone.utc), 'AAPL', 190.895, 190.895, 190.895, 190.895, 4419492), (datetime.datetime(2023, 7, 13, 15, 0, tzinfo=datetime.timezone.utc), 'AAPL', 190.53999, 190.53999, 190.53999, 190.53999, 5590090), (datetime.datetime(2023, 7, 14, 9, 0, tzinfo=datetime.timezone.utc), 'AAPL', 190.85001, 190.85001, 190.85001, 190.85001, 10294954), (datetime.datetime(2023, 7, 14, 10, 0, tzinfo=datetime.timezone.utc), 'AAPL', 190.36, 190.36, 190.36, 190.36, 5242557), (datetime.datetime(2023, 7, 14, 11, 0, tzinfo=datetime.timezone.utc), 'AAPL', 189.95, 189.95, 189.95, 189.95, 3952148), (datetime.datetime(2023, 7, 14, 12, 0, tzinfo=datetime.timezone.utc), 'AAPL', 190.015, 190.015, 190.015, 190.015, 3352688), (datetime.datetime(2023, 7, 14, 13, 0, tzinfo=datetime.timezone.utc), 'AAPL', 190.19, 190.19, 190.19, 190.19, 3213789), (datetime.datetime(2023, 7, 14, 14, 0, tzinfo=datetime.timezone.utc), 'AAPL', 190.27499, 190.27499, 190.27499, 190.27499, 4052940), (datetime.datetime(2023, 7, 14, 15, 0, tzinfo=datetime.timezone.utc), 'AAPL', 190.73, 190.73, 190.73, 190.73, 5002552)]\n"
     ]
    }
   ],
   "source": [
    "query = \"\"\"\n",
    "            SELECT * FROM one_hour_candle\n",
    "            WHERE symbol = %s AND bucket >= NOW() - INTERVAL '40 days'\n",
    "            ORDER BY bucket;\n",
    "\"\"\"\n",
    "\n",
    "symbol = \"AAPL\"\n",
    "cursor.execute(query, (symbol,))\n",
    "results = cursor.fetchall()\n",
    "print(results)"
   ]
  },
  {
   "cell_type": "code",
   "execution_count": 28,
   "metadata": {},
   "outputs": [],
   "source": [
    "ts = pd.DataFrame(results, columns=[\"bucket\", \"symbol\", \"open\", \"high\", \"low\", \"close\", \"volume\"])\n",
    "ts[\"bucket\"] = pd.to_datetime(ts[\"bucket\"])\n",
    "ts.set_index(\"bucket\", inplace=True)"
   ]
  },
  {
   "cell_type": "code",
   "execution_count": 29,
   "metadata": {},
   "outputs": [
    {
     "data": {
      "text/plain": [
       "278"
      ]
     },
     "execution_count": 29,
     "metadata": {},
     "output_type": "execute_result"
    }
   ],
   "source": [
    "len(ts['close'])"
   ]
  },
  {
   "cell_type": "code",
   "execution_count": 30,
   "metadata": {},
   "outputs": [],
   "source": [
    "# create dataset X and y, rolling window of 7 days\n",
    "df = ts['close']\n",
    "# reverse\n",
    "# df = df.iloc[::-1]\n",
    "\n",
    "time_steps_past = 6*24 # 6 days * 24 hours\n",
    "X = []\n",
    "\n",
    "for i in range(time_steps_past, len(df)):\n",
    "    X.append(df[i-time_steps_past:i])\n",
    "\n",
    "X = np.array(X)"
   ]
  },
  {
   "cell_type": "code",
   "execution_count": 31,
   "metadata": {},
   "outputs": [],
   "source": [
    "# scale\n",
    "X1 = scalerx.transform(X)"
   ]
  },
  {
   "cell_type": "code",
   "execution_count": 32,
   "metadata": {},
   "outputs": [
    {
     "name": "stdout",
     "output_type": "stream",
     "text": [
      "5/5 [==============================] - 1s 17ms/step\n",
      "2943.4827\n"
     ]
    }
   ],
   "source": [
    "# predict\n",
    "y_pred = model.predict(X)\n",
    "\n",
    "# inverse transform\n",
    "y_pred = scalery.inverse_transform(y_pred)\n",
    "\n",
    "# return last prediction\n",
    "print(y_pred[-1][0])"
   ]
  }
 ],
 "metadata": {
  "kernelspec": {
   "display_name": "Python 3",
   "language": "python",
   "name": "python3"
  },
  "language_info": {
   "codemirror_mode": {
    "name": "ipython",
    "version": 3
   },
   "file_extension": ".py",
   "mimetype": "text/x-python",
   "name": "python",
   "nbconvert_exporter": "python",
   "pygments_lexer": "ipython3",
   "version": "3.10.6"
  },
  "orig_nbformat": 4
 },
 "nbformat": 4,
 "nbformat_minor": 2
}
