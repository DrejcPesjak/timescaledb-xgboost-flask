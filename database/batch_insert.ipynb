{
 "cells": [
  {
   "cell_type": "markdown",
   "metadata": {},
   "source": [
    "# Batch insert into database"
   ]
  },
  {
   "cell_type": "code",
   "execution_count": 1,
   "metadata": {},
   "outputs": [],
   "source": [
    "import psycopg2\n",
    "from twelvedata import TDClient\n",
    "from psycopg2.extras import execute_values\n",
    "from datetime import datetime, timedelta\n",
    "from dotenv import load_dotenv\n",
    "import os"
   ]
  },
  {
   "cell_type": "code",
   "execution_count": 2,
   "metadata": {},
   "outputs": [],
   "source": [
    "# Load environment variables from .env file\n",
    "load_dotenv()\n",
    "\n",
    "# Get environment variables\n",
    "tdapikey = os.getenv('TDAPIKEY')\n",
    "dbname, host, user, password, port = os.getenv('DBNAME'), os.getenv('HOST'), os.getenv('DBUSER'), os.getenv('PASS'), os.getenv('PORT')\n",
    "\n",
    "# Connect to the database\n",
    "conn = psycopg2.connect(database=dbname, host=host, user=user, password=password, port=port)\n",
    "cursor = conn.cursor()"
   ]
  },
  {
   "cell_type": "code",
   "execution_count": 9,
   "metadata": {},
   "outputs": [],
   "source": [
    "# Define the table name and columns\n",
    "symbol = \"AAPL\"\n",
    "table_name = \"stocks_real_time\"\n",
    "columns = [\"time\", \"symbol\", \"price\", \"day_volume\"]\n",
    "\n",
    "# Define the start and end dates for the data\n",
    "end_date = datetime.now().strftime(\"%Y-%m-%d\")\n",
    "start_date = (datetime.now() - timedelta(days=2 * 365)).strftime(\"%Y-%m-%d\")"
   ]
  },
  {
   "cell_type": "code",
   "execution_count": 10,
   "metadata": {},
   "outputs": [],
   "source": [
    "# Fetch data from Twelve Data API\n",
    "td = TDClient(apikey=tdapikey)\n",
    "time_series = td.time_series(symbol=symbol, interval=\"1h\", start_date=start_date, end_date=end_date, outputsize=5000)\n",
    "data = time_series.as_pandas()"
   ]
  },
  {
   "cell_type": "code",
   "execution_count": 11,
   "metadata": {},
   "outputs": [
    {
     "data": {
      "text/html": [
       "<div>\n",
       "<style scoped>\n",
       "    .dataframe tbody tr th:only-of-type {\n",
       "        vertical-align: middle;\n",
       "    }\n",
       "\n",
       "    .dataframe tbody tr th {\n",
       "        vertical-align: top;\n",
       "    }\n",
       "\n",
       "    .dataframe thead th {\n",
       "        text-align: right;\n",
       "    }\n",
       "</style>\n",
       "<table border=\"1\" class=\"dataframe\">\n",
       "  <thead>\n",
       "    <tr style=\"text-align: right;\">\n",
       "      <th></th>\n",
       "      <th>open</th>\n",
       "      <th>high</th>\n",
       "      <th>low</th>\n",
       "      <th>close</th>\n",
       "      <th>volume</th>\n",
       "    </tr>\n",
       "    <tr>\n",
       "      <th>datetime</th>\n",
       "      <th></th>\n",
       "      <th></th>\n",
       "      <th></th>\n",
       "      <th></th>\n",
       "      <th></th>\n",
       "    </tr>\n",
       "  </thead>\n",
       "  <tbody>\n",
       "    <tr>\n",
       "      <th>2023-07-14 15:30:00</th>\n",
       "      <td>190.27499</td>\n",
       "      <td>190.74001</td>\n",
       "      <td>190.1600</td>\n",
       "      <td>190.73000</td>\n",
       "      <td>5002552</td>\n",
       "    </tr>\n",
       "    <tr>\n",
       "      <th>2023-07-14 14:30:00</th>\n",
       "      <td>190.20000</td>\n",
       "      <td>190.42000</td>\n",
       "      <td>189.7800</td>\n",
       "      <td>190.27499</td>\n",
       "      <td>4052940</td>\n",
       "    </tr>\n",
       "    <tr>\n",
       "      <th>2023-07-14 13:30:00</th>\n",
       "      <td>190.01010</td>\n",
       "      <td>190.56500</td>\n",
       "      <td>189.9501</td>\n",
       "      <td>190.19000</td>\n",
       "      <td>3213789</td>\n",
       "    </tr>\n",
       "    <tr>\n",
       "      <th>2023-07-14 12:30:00</th>\n",
       "      <td>189.95000</td>\n",
       "      <td>190.14999</td>\n",
       "      <td>189.6300</td>\n",
       "      <td>190.01500</td>\n",
       "      <td>3352688</td>\n",
       "    </tr>\n",
       "    <tr>\n",
       "      <th>2023-07-14 11:30:00</th>\n",
       "      <td>190.36501</td>\n",
       "      <td>190.62000</td>\n",
       "      <td>189.8900</td>\n",
       "      <td>189.95000</td>\n",
       "      <td>3952148</td>\n",
       "    </tr>\n",
       "    <tr>\n",
       "      <th>...</th>\n",
       "      <td>...</td>\n",
       "      <td>...</td>\n",
       "      <td>...</td>\n",
       "      <td>...</td>\n",
       "      <td>...</td>\n",
       "    </tr>\n",
       "    <tr>\n",
       "      <th>2021-07-19 13:30:00</th>\n",
       "      <td>141.78000</td>\n",
       "      <td>142.55000</td>\n",
       "      <td>141.7000</td>\n",
       "      <td>142.53000</td>\n",
       "      <td>9473277</td>\n",
       "    </tr>\n",
       "    <tr>\n",
       "      <th>2021-07-19 12:30:00</th>\n",
       "      <td>142.91000</td>\n",
       "      <td>143.02000</td>\n",
       "      <td>141.7300</td>\n",
       "      <td>141.78999</td>\n",
       "      <td>11005192</td>\n",
       "    </tr>\n",
       "    <tr>\n",
       "      <th>2021-07-19 11:30:00</th>\n",
       "      <td>143.20000</td>\n",
       "      <td>143.95000</td>\n",
       "      <td>142.8000</td>\n",
       "      <td>142.90500</td>\n",
       "      <td>12189392</td>\n",
       "    </tr>\n",
       "    <tr>\n",
       "      <th>2021-07-19 10:30:00</th>\n",
       "      <td>142.40500</td>\n",
       "      <td>143.59000</td>\n",
       "      <td>141.9601</td>\n",
       "      <td>143.19991</td>\n",
       "      <td>15151454</td>\n",
       "    </tr>\n",
       "    <tr>\n",
       "      <th>2021-07-19 09:30:00</th>\n",
       "      <td>143.70500</td>\n",
       "      <td>144.07001</td>\n",
       "      <td>141.6700</td>\n",
       "      <td>142.39500</td>\n",
       "      <td>37920487</td>\n",
       "    </tr>\n",
       "  </tbody>\n",
       "</table>\n",
       "<p>3501 rows × 5 columns</p>\n",
       "</div>"
      ],
      "text/plain": [
       "                          open       high       low      close    volume\n",
       "datetime                                                                \n",
       "2023-07-14 15:30:00  190.27499  190.74001  190.1600  190.73000   5002552\n",
       "2023-07-14 14:30:00  190.20000  190.42000  189.7800  190.27499   4052940\n",
       "2023-07-14 13:30:00  190.01010  190.56500  189.9501  190.19000   3213789\n",
       "2023-07-14 12:30:00  189.95000  190.14999  189.6300  190.01500   3352688\n",
       "2023-07-14 11:30:00  190.36501  190.62000  189.8900  189.95000   3952148\n",
       "...                        ...        ...       ...        ...       ...\n",
       "2021-07-19 13:30:00  141.78000  142.55000  141.7000  142.53000   9473277\n",
       "2021-07-19 12:30:00  142.91000  143.02000  141.7300  141.78999  11005192\n",
       "2021-07-19 11:30:00  143.20000  143.95000  142.8000  142.90500  12189392\n",
       "2021-07-19 10:30:00  142.40500  143.59000  141.9601  143.19991  15151454\n",
       "2021-07-19 09:30:00  143.70500  144.07001  141.6700  142.39500  37920487\n",
       "\n",
       "[3501 rows x 5 columns]"
      ]
     },
     "execution_count": 11,
     "metadata": {},
     "output_type": "execute_result"
    }
   ],
   "source": [
    "data"
   ]
  },
  {
   "cell_type": "code",
   "execution_count": 12,
   "metadata": {},
   "outputs": [],
   "source": [
    "# Convert the data to a list of tuples for batch insert\n",
    "#data_tuples = [(row.Index.to_pydatetime(), row['symbol'], row['close'], row['volume']) for row in data.itertuples()]\n",
    "data_tuples = [(row.Index.to_pydatetime(), symbol, row.close, row.volume) for row in data.itertuples()]"
   ]
  },
  {
   "cell_type": "code",
   "execution_count": 14,
   "metadata": {},
   "outputs": [],
   "source": [
    "# Perform the batch insert into the database\n",
    "execute_values(cursor, f\"INSERT INTO {table_name} ({','.join(columns)}) VALUES %s\", data_tuples)\n",
    "conn.commit()"
   ]
  },
  {
   "cell_type": "code",
   "execution_count": 15,
   "metadata": {},
   "outputs": [],
   "source": [
    "# Close the database connection\n",
    "cursor.close()\n",
    "conn.close()"
   ]
  }
 ],
 "metadata": {
  "kernelspec": {
   "display_name": "Python 3",
   "language": "python",
   "name": "python3"
  },
  "language_info": {
   "codemirror_mode": {
    "name": "ipython",
    "version": 3
   },
   "file_extension": ".py",
   "mimetype": "text/x-python",
   "name": "python",
   "nbconvert_exporter": "python",
   "pygments_lexer": "ipython3",
   "version": "3.10.6"
  },
  "orig_nbformat": 4
 },
 "nbformat": 4,
 "nbformat_minor": 2
}
